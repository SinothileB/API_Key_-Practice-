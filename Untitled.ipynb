{
 "cells": [
  {
   "cell_type": "markdown",
   "id": "722e6797",
   "metadata": {},
   "source": [
    "Create and Save Your Yelp API Key (Practice)\n",
    "While this assignment is optional, you can use the notebook & repository created in this practice assignment as a starting point for your first Core assignment.\n",
    "\n",
    "Follow the instructions from the previous 2 lessons to get your Yelp Fusion API credentials. \n",
    "Save them locally in a yelp-api.json file located in a \".secret/\" folder inside your user folder. \n",
    "Create a new repository with GitHub desktop. \n",
    "\n",
    "Load in your API credentials using the JSON module and display what keys are in the dictionary.\n",
    "  DO NOT DISPLAY THE VALUES OF THIS DICTIONARY!!!\n",
    "Save, commit, and push your work to GitHub."
   ]
  },
  {
   "cell_type": "code",
   "execution_count": 1,
   "id": "5483f454",
   "metadata": {},
   "outputs": [
    {
     "data": {
      "text/plain": [
       "dict_keys(['client-id', 'api-key'])"
      ]
     },
     "execution_count": 1,
     "metadata": {},
     "output_type": "execute_result"
    }
   ],
   "source": [
    "#Loading Your API Keys\n",
    "import json\n",
    "with open('/Users/siblose/.secret/yelp_api.json') as f: \n",
    "    login = json.load(f)\n",
    "login.keys()"
   ]
  },
  {
   "cell_type": "code",
   "execution_count": null,
   "id": "5054fcf1",
   "metadata": {},
   "outputs": [],
   "source": []
  }
 ],
 "metadata": {
  "kernelspec": {
   "display_name": "Python (dojo-env)",
   "language": "python",
   "name": "dojo-env"
  },
  "language_info": {
   "codemirror_mode": {
    "name": "ipython",
    "version": 3
   },
   "file_extension": ".py",
   "mimetype": "text/x-python",
   "name": "python",
   "nbconvert_exporter": "python",
   "pygments_lexer": "ipython3",
   "version": "3.10.10"
  }
 },
 "nbformat": 4,
 "nbformat_minor": 5
}
